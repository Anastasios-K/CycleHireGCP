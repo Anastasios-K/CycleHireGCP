{
 "cells": [
  {
   "cell_type": "code",
   "execution_count": 1,
   "id": "e8d51654-11d1-4961-8fe2-f76024ba3a64",
   "metadata": {},
   "outputs": [
    {
     "name": "stdout",
     "output_type": "stream",
     "text": [
      "importing Jupyter notebook from C:\\Users\\Anast\\pythonProject\\essence\\src\\helper\\helper.ipynb\n",
      "importing Jupyter notebook from C:\\Users\\Anast\\pythonProject\\essence\\src\\model_development\\load_config.ipynb\n",
      "importing Jupyter notebook from C:\\Users\\Anast\\pythonProject\\essence\\src\\model_development\\s1_preview_data.ipynb\n",
      "importing Jupyter notebook from C:\\Users\\Anast\\pythonProject\\essence\\src\\model_development\\s2_preprocess_data.ipynb\n",
      "importing Jupyter notebook from C:\\Users\\Anast\\pythonProject\\essence\\src\\model_development\\s3_explore_data.ipynb\n",
      "importing Jupyter notebook from C:\\Users\\Anast\\pythonProject\\essence\\src\\model_development\\create_required_dirs.ipynb\n",
      "importing Jupyter notebook from C:\\Users\\Anast\\pythonProject\\essence\\src\\model_development\\s4_prepare_data_for_modelling.ipynb\n",
      "importing Jupyter notebook from C:\\Users\\Anast\\pythonProject\\essence\\src\\model_development\\s5_build_model_train_n_test.ipynb\n",
      "Checking whether there is an H2O instance running at http://localhost:54321..... not found.\n",
      "Attempting to start a local H2O server...\n",
      "; Java HotSpot(TM) Client VM (build 25.291-b10, mixed mode)\n",
      "  Starting server from C:\\Users\\Anast\\pythonProject\\essence\\venv\\Lib\\site-packages\\h2o\\backend\\bin\\h2o.jar\n",
      "  Ice root: C:\\Users\\Anast\\AppData\\Local\\Temp\\tmpuet8x36l\n",
      "  JVM stdout: C:\\Users\\Anast\\AppData\\Local\\Temp\\tmpuet8x36l\\h2o_Anastasios_started_from_python.out\n",
      "  JVM stderr: C:\\Users\\Anast\\AppData\\Local\\Temp\\tmpuet8x36l\\h2o_Anastasios_started_from_python.err\n"
     ]
    },
    {
     "name": "stderr",
     "output_type": "stream",
     "text": [
      "c:\\users\\anast\\pythonproject\\essence\\venv\\lib\\site-packages\\h2o\\backend\\server.py:385: UserWarning:   You have a 32-bit version of Java. H2O works best with 64-bit Java.\n",
      "  Please download the latest 64-bit Java SE JDK from Oracle.\n",
      "\n",
      "  warn(\"  You have a 32-bit version of Java. H2O works best with 64-bit Java.\\n\"\n"
     ]
    },
    {
     "name": "stdout",
     "output_type": "stream",
     "text": [
      "  Server is running at http://127.0.0.1:54321\n",
      "Connecting to H2O server at http://127.0.0.1:54321 ... successful.\n"
     ]
    },
    {
     "data": {
      "text/html": [
       "\n",
       "<style>\n",
       "\n",
       "#h2o-table-1.h2o-container {\n",
       "  overflow-x: auto;\n",
       "}\n",
       "#h2o-table-1 .h2o-table {\n",
       "  /* width: 100%; */\n",
       "  margin-top: 1em;\n",
       "  margin-bottom: 1em;\n",
       "}\n",
       "#h2o-table-1 .h2o-table caption {\n",
       "  white-space: nowrap;\n",
       "  caption-side: top;\n",
       "  text-align: left;\n",
       "  /* margin-left: 1em; */\n",
       "  margin: 0;\n",
       "  font-size: larger;\n",
       "}\n",
       "#h2o-table-1 .h2o-table thead {\n",
       "  white-space: nowrap; \n",
       "  position: sticky;\n",
       "  top: 0;\n",
       "  box-shadow: 0 -1px inset;\n",
       "}\n",
       "#h2o-table-1 .h2o-table tbody {\n",
       "  overflow: auto;\n",
       "}\n",
       "#h2o-table-1 .h2o-table th,\n",
       "#h2o-table-1 .h2o-table td {\n",
       "  text-align: right;\n",
       "  /* border: 1px solid; */\n",
       "}\n",
       "#h2o-table-1 .h2o-table tr:nth-child(even) {\n",
       "  /* background: #F5F5F5 */\n",
       "}\n",
       "\n",
       "</style>      \n",
       "<div id=\"h2o-table-1\" class=\"h2o-container\">\n",
       "  <table class=\"h2o-table\">\n",
       "    <caption></caption>\n",
       "    <thead></thead>\n",
       "    <tbody><tr><td>H2O_cluster_uptime:</td>\n",
       "<td>02 secs</td></tr>\n",
       "<tr><td>H2O_cluster_timezone:</td>\n",
       "<td>Europe/London</td></tr>\n",
       "<tr><td>H2O_data_parsing_timezone:</td>\n",
       "<td>UTC</td></tr>\n",
       "<tr><td>H2O_cluster_version:</td>\n",
       "<td>3.42.0.3</td></tr>\n",
       "<tr><td>H2O_cluster_version_age:</td>\n",
       "<td>1 month and 2 days</td></tr>\n",
       "<tr><td>H2O_cluster_name:</td>\n",
       "<td>H2O_from_python_Anastasios_hx10e2</td></tr>\n",
       "<tr><td>H2O_cluster_total_nodes:</td>\n",
       "<td>1</td></tr>\n",
       "<tr><td>H2O_cluster_free_memory:</td>\n",
       "<td>247.5 Mb</td></tr>\n",
       "<tr><td>H2O_cluster_total_cores:</td>\n",
       "<td>8</td></tr>\n",
       "<tr><td>H2O_cluster_allowed_cores:</td>\n",
       "<td>8</td></tr>\n",
       "<tr><td>H2O_cluster_status:</td>\n",
       "<td>locked, healthy</td></tr>\n",
       "<tr><td>H2O_connection_url:</td>\n",
       "<td>http://127.0.0.1:54321</td></tr>\n",
       "<tr><td>H2O_connection_proxy:</td>\n",
       "<td>{\"http\": null, \"https\": null}</td></tr>\n",
       "<tr><td>H2O_internal_security:</td>\n",
       "<td>False</td></tr>\n",
       "<tr><td>Python_version:</td>\n",
       "<td>3.8.10 final</td></tr></tbody>\n",
       "  </table>\n",
       "</div>\n"
      ],
      "text/plain": [
       "--------------------------  ---------------------------------\n",
       "H2O_cluster_uptime:         02 secs\n",
       "H2O_cluster_timezone:       Europe/London\n",
       "H2O_data_parsing_timezone:  UTC\n",
       "H2O_cluster_version:        3.42.0.3\n",
       "H2O_cluster_version_age:    1 month and 2 days\n",
       "H2O_cluster_name:           H2O_from_python_Anastasios_hx10e2\n",
       "H2O_cluster_total_nodes:    1\n",
       "H2O_cluster_free_memory:    247.5 Mb\n",
       "H2O_cluster_total_cores:    8\n",
       "H2O_cluster_allowed_cores:  8\n",
       "H2O_cluster_status:         locked, healthy\n",
       "H2O_connection_url:         http://127.0.0.1:54321\n",
       "H2O_connection_proxy:       {\"http\": null, \"https\": null}\n",
       "H2O_internal_security:      False\n",
       "Python_version:             3.8.10 final\n",
       "--------------------------  ---------------------------------"
      ]
     },
     "metadata": {},
     "output_type": "display_data"
    }
   ],
   "source": [
    "import os\n",
    "import pandas as pd\n",
    "import import_ipynb\n",
    "from src.helper.helper import YamlReader\n",
    "from src.model_development.load_config import Config\n",
    "from src.model_development.s1_preview_data import DataPreviewer"
   ]
  },
  {
   "cell_type": "code",
   "execution_count": 2,
   "id": "8e9ffb68-d17c-4c2b-8c13-520fec07fe14",
   "metadata": {},
   "outputs": [],
   "source": [
    "class EssencePipelineRunner:\n",
    "\n",
    "    def __init__(self, config_path):\n",
    "        self.config = Config(config_path=config_path)\n",
    "        self.run = DataPreviewer(config=self.config)\\\n",
    "            .preprocess_data()\\\n",
    "            .explore_data()\\\n",
    "            .prepare_data_for_modelling()\\\n",
    "            .build_ml_model_train_n_test()"
   ]
  },
  {
   "cell_type": "code",
   "execution_count": null,
   "id": "7d46d4c4-32f0-4d13-89be-dc5c20068577",
   "metadata": {},
   "outputs": [
    {
     "name": "stdout",
     "output_type": "stream",
     "text": [
      "Parse progress: |████████████████████████████████████████████████████████████████| (done) 100%\n",
      "Parse progress: |████████████████████████████████████████████████████████████████| (done) 100%\n",
      "Parse progress: |████████████████████████████████████████████████████████████████| (done) 100%\n",
      "AutoML progress: |\n",
      "14:05:14.575: AutoML: XGBoost is not available; skipping it.\n",
      "\n",
      "██████████████████████████████████████████████████████████████"
     ]
    }
   ],
   "source": [
    "CONFIG_PATH = os.path.join(\"src\", \"config\", \"config_essencemc.yaml\")\n",
    "run = EssencePipelineRunner(config_path=CONFIG_PATH)"
   ]
  },
  {
   "cell_type": "code",
   "execution_count": null,
   "id": "08c281de-b766-4e33-a362-479feb186e0d",
   "metadata": {},
   "outputs": [],
   "source": [
    "# df = run.run.x_train"
   ]
  },
  {
   "cell_type": "code",
   "execution_count": null,
   "id": "75f6a585-5e3d-47b7-ae33-9ca90d28265a",
   "metadata": {},
   "outputs": [],
   "source": [
    "# df"
   ]
  },
  {
   "cell_type": "code",
   "execution_count": null,
   "id": "738f80e1-1d0c-4631-99f3-e66472324774",
   "metadata": {},
   "outputs": [],
   "source": []
  },
  {
   "cell_type": "code",
   "execution_count": null,
   "id": "26f7d97d-fe09-4987-982b-f177f3e69aa0",
   "metadata": {},
   "outputs": [],
   "source": []
  },
  {
   "cell_type": "code",
   "execution_count": null,
   "id": "24c51394-08ae-4ea5-b1f1-1559fb6abc9a",
   "metadata": {},
   "outputs": [],
   "source": [
    "# print(run.run.info_tracker.cycle_hire_preview)"
   ]
  }
 ],
 "metadata": {
  "kernelspec": {
   "display_name": "Python 3 (ipykernel)",
   "language": "python",
   "name": "python3"
  },
  "language_info": {
   "codemirror_mode": {
    "name": "ipython",
    "version": 3
   },
   "file_extension": ".py",
   "mimetype": "text/x-python",
   "name": "python",
   "nbconvert_exporter": "python",
   "pygments_lexer": "ipython3",
   "version": "3.8.10"
  }
 },
 "nbformat": 4,
 "nbformat_minor": 5
}
