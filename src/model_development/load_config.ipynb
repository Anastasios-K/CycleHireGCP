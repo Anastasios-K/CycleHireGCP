{
 "cells": [
  {
   "cell_type": "code",
   "execution_count": 5,
   "id": "ed862ca1-1e01-4971-9452-86cc136a2516",
   "metadata": {},
   "outputs": [],
   "source": [
    "import import_ipynb\n",
    "from dataclasses import dataclass\n",
    "import typing as t\n",
    "from ..helper.helper import YamlReader"
   ]
  },
  {
   "cell_type": "code",
   "execution_count": null,
   "id": "33976f21-092b-4311-ad4a-6ad308a1c280",
   "metadata": {},
   "outputs": [],
   "source": [
    "@dataclass\n",
    "class ShowOut:\n",
    "    \"\"\" Read the show outcome configuration from the config yaml file. \"\"\"\n",
    "    show_outcome: bool\n",
    "\n",
    "    @classmethod\n",
    "    def read_config(cls: t.Type[\"ShowOut\"], obj: dict):\n",
    "        return cls(\n",
    "            show_outcome=obj[\"show_outcome\"]\n",
    "        )"
   ]
  },
  {
   "cell_type": "code",
   "execution_count": 2,
   "id": "3015a9ac-5df8-4104-9e2d-5efb87fd03af",
   "metadata": {},
   "outputs": [],
   "source": [
    "@dataclass\n",
    "class Paths:\n",
    "    \"\"\" Read path configuration from the config yaml file. \"\"\"\n",
    "    gcp_credential_dir: str\n",
    "    gcp_credential_file: str\n",
    "    plots_path: str\n",
    "    london_geodata_dir: str\n",
    "    london_geodata_file: str\n",
    "    eda_report: str\n",
    "    model_results: str\n",
    "\n",
    "    @classmethod\n",
    "    def read_config(cls: t.Type[\"Paths\"], obj: dict):\n",
    "        return cls(\n",
    "            gcp_credential_dir=obj[\"paths\"][\"gcp_credential_dir\"],\n",
    "            gcp_credential_file=obj[\"paths\"][\"gcp_credential_file\"],\n",
    "            plots_path=obj[\"paths\"][\"plots_path\"],\n",
    "            london_geodata_dir=obj[\"paths\"][\"london_geodata_dir\"],\n",
    "            london_geodata_file=obj[\"paths\"][\"london_geodata_file\"],\n",
    "            eda_report=obj[\"paths\"][\"eda_report\"],\n",
    "            model_results=obj[\"paths\"][\"model_results\"]\n",
    "        )"
   ]
  },
  {
   "cell_type": "code",
   "execution_count": null,
   "id": "d1065ab9-6083-4031-93bc-d7a4bee9b671",
   "metadata": {},
   "outputs": [],
   "source": [
    "@dataclass\n",
    "class DataBase:\n",
    "    \"\"\" Read database tables configuration from the config yaml file. \"\"\"\n",
    "    hire_table: str\n",
    "    station_table: str\n",
    "    my_project: str\n",
    "    my_dataset: str\n",
    "    my_table: str\n",
    "\n",
    "    @classmethod\n",
    "    def read_config(cls: t.Type[\"DataBase\"], obj: dict):\n",
    "        return cls(\n",
    "            hire_table=obj[\"database\"][\"tables\"][\"hire_table\"],\n",
    "            station_table=obj[\"database\"][\"tables\"][\"station_table\"],\n",
    "            my_project=obj[\"database\"][\"myproject\"],\n",
    "            my_dataset=obj[\"database\"][\"mydataset\"],\n",
    "            my_table=obj[\"database\"][\"mytable\"]\n",
    "        )"
   ]
  },
  {
   "cell_type": "code",
   "execution_count": null,
   "id": "44898831-9666-4b44-9652-31ac08603927",
   "metadata": {},
   "outputs": [],
   "source": [
    "@dataclass\n",
    "class PlotDefault:\n",
    "    \"\"\" Read plotting configuration from the config yaml file. \"\"\"\n",
    "    title_color: str\n",
    "    title_font_style: str\n",
    "    title_font_size: int\n",
    "    axes_line_width: int\n",
    "    axes_line_color: str\n",
    "    cmap: str\n",
    "    colour1: str\n",
    "    colour2: str\n",
    "    colour3: str\n",
    "    colour4: str\n",
    "\n",
    "    @classmethod\n",
    "    def read_config(cls: t.Type[\"PlotDefault\"], obj: dict):\n",
    "        return cls(\n",
    "            title_color=obj[\"plotting_default\"][\"title_color\"],\n",
    "            title_font_style=obj[\"plotting_default\"][\"title_font_style\"],\n",
    "            title_font_size=obj[\"plotting_default\"][\"title_font_size\"],\n",
    "            axes_line_width=obj[\"plotting_default\"][\"axes_line_width\"],\n",
    "            axes_line_color=obj[\"plotting_default\"][\"axes_line_color\"],\n",
    "            cmap=obj[\"plotting_default\"][\"cmap\"],\n",
    "            colour1=obj[\"plotting_default\"][\"colour1\"],\n",
    "            colour2=obj[\"plotting_default\"][\"colour2\"],\n",
    "            colour3=obj[\"plotting_default\"][\"colour3\"],\n",
    "            colour4=obj[\"plotting_default\"][\"colour4\"]\n",
    "        )"
   ]
  },
  {
   "cell_type": "code",
   "execution_count": null,
   "id": "a159dae5-fddc-4966-a0ac-6e0db3893bfb",
   "metadata": {},
   "outputs": [],
   "source": [
    "@dataclass\n",
    "class RandomState:\n",
    "    \"\"\" Read random state configuration from the config yaml file. \"\"\"\n",
    "    seed: int\n",
    "\n",
    "    @classmethod\n",
    "    def read_config(cls: t.Type[\"RandomState\"], obj: dict):\n",
    "        return cls(\n",
    "            seed=obj[\"random_state\"]\n",
    "        )"
   ]
  },
  {
   "cell_type": "code",
   "execution_count": 3,
   "id": "bf419472-1c2e-4968-abf4-0c717cd84ffb",
   "metadata": {},
   "outputs": [],
   "source": [
    "class Config:\n",
    "    \"\"\" Load all configurations. \"\"\"\n",
    "\n",
    "    def __init__(self, config_path):\n",
    "        config_file = YamlReader.read_yaml_file(path=config_path)\n",
    "\n",
    "        self.show_outcome = ShowOut.read_config(obj=config_file)\n",
    "        self.paths = Paths.read_config(obj=config_file)\n",
    "        self.database = DataBase.read_config(obj=config_file)\n",
    "        self.plotdefault = PlotDefault.read_config(obj=config_file)\n",
    "        self.random_state = RandomState.read_config(obj=config_file)"
   ]
  }
 ],
 "metadata": {
  "kernelspec": {
   "display_name": "Python 3 (ipykernel)",
   "language": "python",
   "name": "python3"
  },
  "language_info": {
   "codemirror_mode": {
    "name": "ipython",
    "version": 3
   },
   "file_extension": ".py",
   "mimetype": "text/x-python",
   "name": "python",
   "nbconvert_exporter": "python",
   "pygments_lexer": "ipython3",
   "version": "3.8.10"
  }
 },
 "nbformat": 4,
 "nbformat_minor": 5
}
