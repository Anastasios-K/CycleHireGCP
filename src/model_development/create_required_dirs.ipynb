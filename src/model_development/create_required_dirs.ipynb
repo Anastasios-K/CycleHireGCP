{
 "cells": [
  {
   "cell_type": "code",
   "execution_count": null,
   "id": "00115073-c9ad-4df2-a16d-c49e79f7546f",
   "metadata": {},
   "outputs": [],
   "source": [
    "import os"
   ]
  },
  {
   "cell_type": "code",
   "execution_count": null,
   "id": "1de7ff38-ff77-4ea2-84d3-41650d957161",
   "metadata": {},
   "outputs": [],
   "source": [
    "class DirCreator:\n",
    "\n",
    "    def __init__(self, config):\n",
    "        os.makedirs(config.paths.plots_path, exist_ok=True)\n",
    "        os.makedirs(config.paths.eda_report, exist_ok=True)\n",
    "        os.makedirs(config.paths.model_results, exist_ok=True)\n"
   ]
  }
 ],
 "metadata": {
  "kernelspec": {
   "display_name": "Python 3 (ipykernel)",
   "language": "python",
   "name": "python3"
  },
  "language_info": {
   "codemirror_mode": {
    "name": "ipython",
    "version": 3
   },
   "file_extension": ".py",
   "mimetype": "text/x-python",
   "name": "python",
   "nbconvert_exporter": "python",
   "pygments_lexer": "ipython3",
   "version": "3.8.10"
  }
 },
 "nbformat": 4,
 "nbformat_minor": 5
}
